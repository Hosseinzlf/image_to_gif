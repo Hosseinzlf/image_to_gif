{
 "cells": [
  {
   "cell_type": "code",
   "execution_count": 2,
   "metadata": {},
   "outputs": [],
   "source": [
    "#Author: Hossein Zolfaghari\n",
    "#August 2022\n",
    "!convert -delay 5 /home/hossein/hcodes/23aout/images/*.jpg test1.gif "
   ]
  }
 ],
 "metadata": {
  "kernelspec": {
   "display_name": "Python 3.8.13 ('hzolf')",
   "language": "python",
   "name": "python3"
  },
  "language_info": {
   "codemirror_mode": {
    "name": "ipython",
    "version": 3
   },
   "file_extension": ".py",
   "mimetype": "text/x-python",
   "name": "python",
   "nbconvert_exporter": "python",
   "pygments_lexer": "ipython3",
   "version": "3.8.13"
  },
  "orig_nbformat": 4,
  "vscode": {
   "interpreter": {
    "hash": "5e32cb09ce6e38bde70ddabfc255bdcf549add0839a4038b719285f25dd32a47"
   }
  }
 },
 "nbformat": 4,
 "nbformat_minor": 2
}
